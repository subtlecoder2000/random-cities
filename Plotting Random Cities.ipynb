{
 "cells": [
  {
   "cell_type": "markdown",
   "metadata": {},
   "source": [
    "# Plotting 50 random cities in a 100x100 grid"
   ]
  },
  {
   "cell_type": "markdown",
   "metadata": {},
   "source": [
    "This program will generate 50 random city names and allocate it to random grid points which will be plotted.\n",
    "\n"
   ]
  },
  {
   "cell_type": "markdown",
   "metadata": {},
   "source": [
    "- assigning city names"
   ]
  },
  {
   "cell_type": "code",
   "execution_count": 1,
   "metadata": {},
   "outputs": [],
   "source": [
    "import numpy as np\n",
    "import random\n",
    "import string\n",
    "import matplotlib.pyplot as plt"
   ]
  },
  {
   "cell_type": "code",
   "execution_count": 2,
   "metadata": {},
   "outputs": [],
   "source": [
    "cities = [\n",
    "    ''.join(np.random.choice([c for c in string.ascii_letters], random.randint(5, 12)))\n",
    "    for i in range(50)\n",
    "]"
   ]
  },
  {
   "cell_type": "markdown",
   "metadata": {},
   "source": [
    "printing names"
   ]
  },
  {
   "cell_type": "code",
   "execution_count": 3,
   "metadata": {},
   "outputs": [
    {
     "name": "stdout",
     "output_type": "stream",
     "text": [
      "zsUDJAD\n",
      "QRLEYekczix\n",
      "BIxlQhhAS\n",
      "KtWkpYq\n",
      "ryvXvAAZX\n",
      "xZuzcevIW\n",
      "jaTowEBbUAIl\n",
      "qoQuEaDfuUD\n",
      "HyWXo\n",
      "wAClCQ\n",
      "XTifFuYIcChn\n",
      "luBpn\n",
      "IvoiCbmfjVD\n",
      "KJBchxFB\n",
      "sjQJLi\n",
      "iRSoowMw\n",
      "akuWt\n",
      "HKcfAUpSzn\n",
      "sSmqIeNNFLrM\n",
      "ZnNoZ\n",
      "OMvrKeNnqk\n",
      "lLbEasMnglQ\n",
      "yNQQlSwNZZeO\n",
      "yvVbo\n",
      "gjFIvqp\n",
      "oiBaH\n",
      "HgQZj\n",
      "YuchU\n",
      "wAmHVY\n",
      "HdfyOVrJESgT\n",
      "KWzNHPzo\n",
      "AKyPj\n",
      "YaLSisuWbc\n",
      "yjiUwhm\n",
      "VgCPJLTBl\n",
      "uoIGry\n",
      "awoWmBefWo\n",
      "TWNQwRjUWk\n",
      "cjlgput\n",
      "luxfwy\n",
      "gjzFQmg\n",
      "Almwfy\n",
      "AImrX\n",
      "ADuPPTM\n",
      "cddgZ\n",
      "NSlJoSmLkUU\n",
      "IJpQGBwXGJQv\n",
      "akmSAnb\n",
      "jMyuJzFqFgMx\n",
      "FJlkHYm\n"
     ]
    }
   ],
   "source": [
    "for i in range(0, 50):\n",
    "    print(cities[i])"
   ]
  },
  {
   "cell_type": "markdown",
   "metadata": {},
   "source": [
    "- printing coordinates"
   ]
  },
  {
   "cell_type": "code",
   "execution_count": 4,
   "metadata": {},
   "outputs": [
    {
     "name": "stdout",
     "output_type": "stream",
     "text": [
      "0\n",
      "1\n",
      "2\n",
      "3\n",
      "4\n",
      "5\n",
      "6\n",
      "7\n",
      "8\n",
      "9\n",
      "10\n",
      "11\n",
      "12\n",
      "13\n",
      "14\n",
      "15\n",
      "16\n",
      "17\n",
      "18\n",
      "19\n",
      "20\n",
      "21\n",
      "22\n",
      "23\n",
      "24\n",
      "25\n",
      "26\n",
      "27\n",
      "28\n",
      "29\n",
      "30\n",
      "31\n",
      "32\n",
      "33\n",
      "34\n",
      "35\n",
      "36\n",
      "37\n",
      "38\n",
      "39\n",
      "40\n",
      "41\n",
      "42\n",
      "43\n",
      "44\n",
      "45\n",
      "46\n",
      "47\n",
      "48\n",
      "49\n"
     ]
    }
   ],
   "source": [
    "c = []\n",
    "for i in range(0, 50):\n",
    "    c.append(i)\n",
    "for i in range(0, 50):\n",
    "    print(c[i])\n",
    "\n",
    "x = []\n",
    "y = []\n",
    "\n",
    "for i in range(0, 50):\n",
    "    x.append(random.choice(c))\n",
    "for i in range(0, 50):\n",
    "    y.append(random.choice(c))"
   ]
  },
  {
   "cell_type": "code",
   "execution_count": 5,
   "metadata": {},
   "outputs": [
    {
     "name": "stdout",
     "output_type": "stream",
     "text": [
      "16    3\n",
      "35    26\n",
      "26    42\n",
      "16    15\n",
      "37    22\n",
      "49    27\n",
      "29    3\n",
      "24    28\n",
      "41    25\n",
      "8    42\n",
      "20    14\n",
      "15    48\n",
      "48    1\n",
      "36    16\n",
      "46    14\n",
      "21    44\n",
      "27    24\n",
      "28    38\n",
      "42    27\n",
      "6    19\n",
      "16    34\n",
      "40    0\n",
      "8    45\n",
      "26    11\n",
      "27    5\n",
      "48    43\n",
      "35    34\n",
      "36    13\n",
      "4    36\n",
      "42    13\n",
      "14    27\n",
      "46    7\n",
      "19    8\n",
      "36    49\n",
      "39    32\n",
      "9    20\n",
      "7    16\n",
      "23    34\n",
      "5    47\n",
      "33    3\n",
      "22    0\n",
      "41    45\n",
      "28    35\n",
      "48    46\n",
      "24    23\n",
      "42    15\n",
      "40    5\n",
      "29    39\n",
      "34    12\n",
      "40    10\n"
     ]
    }
   ],
   "source": [
    "for i in range(0, 50):\n",
    "    print(x[i], \"  \", y[i])"
   ]
  },
  {
   "cell_type": "markdown",
   "metadata": {},
   "source": [
    "preparing to plot"
   ]
  },
  {
   "cell_type": "code",
   "execution_count": 6,
   "metadata": {},
   "outputs": [
    {
     "name": "stdout",
     "output_type": "stream",
     "text": [
      "Plotting Cities on graph\n"
     ]
    },
    {
     "data": {
      "image/png": "[encoded data removed]",
      "text/plain": [
       "<Figure size 432x288 with 1 Axes>"
      ]
     },
     "metadata": {
      "needs_background": "light"
     },
     "output_type": "display_data"
    }
   ],
   "source": [
    "print('Plotting Cities on graph')\n",
    "plt.scatter(x, y)\n",
    "plt.show()"
   ]
  },
  {
   "cell_type": "code",
   "execution_count": null,
   "metadata": {},
   "outputs": [],
   "source": []
  }
 ],
 "metadata": {
  "kernelspec": {
   "display_name": "Python 3",
   "language": "python",
   "name": "python3"
  },
  "language_info": {
   "codemirror_mode": {
    "name": "ipython",
    "version": 3
   },
   "file_extension": ".py",
   "mimetype": "text/x-python",
   "name": "python",
   "nbconvert_exporter": "python",
   "pygments_lexer": "ipython3",
   "version": "3.8.3"
  }
 },
 "nbformat": 4,
 "nbformat_minor": 4
}
